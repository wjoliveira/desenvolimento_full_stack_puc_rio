{
  "nbformat": 4,
  "nbformat_minor": 0,
  "metadata": {
    "colab": {
      "provenance": [],
      "authorship_tag": "ABX9TyPTUCFL3VTD1w6981+ZHka4",
      "include_colab_link": true
    },
    "kernelspec": {
      "name": "python3",
      "display_name": "Python 3"
    },
    "language_info": {
      "name": "python"
    }
  },
  "cells": [
    {
      "cell_type": "markdown",
      "metadata": {
        "id": "view-in-github",
        "colab_type": "text"
      },
      "source": [
        "<a href=\"https://colab.research.google.com/github/wjoliveira/desenvolimento_full_stack_puc_rio/blob/main/POO_AulaExerc%C3%ADcios.ipynb\" target=\"_parent\"><img src=\"https://colab.research.google.com/assets/colab-badge.svg\" alt=\"Open In Colab\"/></a>"
      ]
    },
    {
      "cell_type": "markdown",
      "source": [
        "## Programação Orientada a Objetos\n",
        "### Prof. Tatiana Escovedo\n",
        "### Prof. Assistente Antonio Pedro\n",
        "____________________________________________________________________\n",
        "\n",
        "####Aula Prática de Exercícios\n",
        "\n",
        "####Prática 1)\n",
        "\n",
        "Vamos criar uma biblioteca de artigos científicos que armazene as publicações de autores e imprima a lista de artigos cadastrados em formato de citação bibliográfica, sendo que:\n",
        "\n",
        "\n",
        "*   O **Autor** tem os atributos nome_completo, nome_citacao, afiliacao.\n",
        "*   O **Artigo** tem titulo, autor, ano_publicacao (nesta primeira versão do programa, assuma que cada artigo só pode ter um autor)\n",
        "\n",
        "\n"
      ],
      "metadata": {
        "id": "ej1mdtARjojl"
      }
    },
    {
      "cell_type": "code",
      "source": [
        "class Autor:\n",
        "  \n",
        "  def __init__(self, nome_completo, nome_citacao, afiliacao):\n",
        "    self.__nome_completo = nome_completo\n",
        "    self.__nome_citacao = nome_citacao\n",
        "    self.__afiliacao = afiliacao\n",
        "\n",
        "  def consultar_nome_completo(self):\n",
        "    return self.__nome_completo\n",
        "\n",
        "  def consultar_nome_citacao(self):\n",
        "    return self.__nome_citacao\n",
        "\n",
        "  def consultar_afiliacao(self):\n",
        "    return self.__afiliacao\n",
        "\n",
        "\n",
        "class Artigo:\n",
        "  \n",
        "  def __init__(self, titulo, autor, ano_publicacao):\n",
        "    self.__titulo = titulo\n",
        "    self.__autor = autor\n",
        "    self.__ano_publicacao = ano_publicacao\n",
        "\n",
        "  # Depois podemos criar os métodos consulta se precisarmos, mas seria uma boa prática criar\n",
        "\n",
        "  def imprimir_citacao(self):\n",
        "    # T.ESCOVEDO, Desbravando o Python nas Empresas, 2023\n",
        "    return(\"{}, {}, {}\".format(self.__autor.consultar_nome_citacao(), self.__titulo, self.__ano_publicacao))\n",
        "\n",
        "\n",
        "class BibliotecaArtigos:\n",
        "\n",
        "  def __init__(self): # Nesta classe, não será necessário passar parâmetro para instanciar o objeto\n",
        "    self.__artigos = [] # A biblioteca ao ser criada, virá com uma lista de artigos vazia\n",
        "\n",
        "  def publicar_artigo(self, artigo):\n",
        "    self.__artigos.append(artigo)\n",
        "\n",
        "  def imprimir_catalogo_artigos(self):\n",
        "\n",
        "    # Verificando se a lista de artigos está vazia\n",
        "    if len(self.__artigos) == 0:\n",
        "      print(\"\\n### Não há artigos cadastrados na biblioteca!\")\n",
        "    else:\n",
        "      # Apenas se a lista de artigos não for vazia\n",
        "      print(\"\\n### Artigos cadastrados na biblioteca\")\n",
        "      for artigo in self.__artigos:\n",
        "        print(\"-\", artigo.imprimir_citacao())\n",
        "        "
      ],
      "metadata": {
        "id": "ByakA9pIlmch"
      },
      "execution_count": 17,
      "outputs": []
    },
    {
      "cell_type": "code",
      "source": [
        "# Instanciando a biblioteca\n",
        "biblioteca = BibliotecaArtigos()\n",
        "\n",
        "# Criando lista de autores\n",
        "autor_1 = Autor(\"Tatiana Escovedo\", \"T. ESCOVEDO\", \"PUC-Rio\")\n",
        "autor_2 = Autor(\"Marcos Kalinowski\", \"M. KALINOWSKI\", \"PUC-Rio\")\n",
        "autor_3 = Autor(\"Sérgio Lifschitz\", \"S. LIFSCHITZ\", \"PUC-Rio\")\n",
        "\n",
        "# print(autor_1.consultar_nome_completo())\n",
        "\n",
        "# Criando Lista de Artigos\n",
        "artigo_1 = Artigo(\"Desbravando Python nas Empresas\", autor_1, 2023)\n",
        "artigo_2 = Artigo(\"Desbravando Engenharia de Software nas Empresas\", autor_2, 2020)\n",
        "artigo_3 = Artigo(\"Desbravando BD nas Empresas\", autor_3, 2018)\n",
        "\n",
        "# print( artigo_1.imprimir_citacao() )\n",
        "\n",
        "# Imprimindo o catálogo de artigos\n",
        "biblioteca.imprimir_catalogo_artigos() # Lista vazia!\n",
        "\n",
        "# Publicando os artigos\n",
        "biblioteca.publicar_artigo(artigo_1)\n",
        "biblioteca.publicar_artigo(artigo_2)\n",
        "biblioteca.publicar_artigo(artigo_3)\n",
        "\n",
        "# Imprimindo o catálogo completo\n",
        "biblioteca.imprimir_catalogo_artigos() # Agora temos artigos na lista\n",
        "\n",
        "##### EXTRAS\n",
        "## Verificando o tipo de autor_1\n",
        "#print(type(autor_1))\n",
        "## Verificando se autor_1 é do tipo Autor\n",
        "#print(isinstance(autor_1, Autor))"
      ],
      "metadata": {
        "colab": {
          "base_uri": "https://localhost:8080/"
        },
        "id": "gJsSPyy9tcvH",
        "outputId": "06957101-726d-407a-f195-111d1c361815"
      },
      "execution_count": 18,
      "outputs": [
        {
          "output_type": "stream",
          "name": "stdout",
          "text": [
            "\n",
            "### Não há artigos cadastrados na biblioteca!\n",
            "\n",
            "### Artigos cadastrados na biblioteca\n",
            "- T. ESCOVEDO, Desbravando Python nas Empresas, 2023\n",
            "- M. KALINOWSKI, Desbravando Engenharia de Software nas Empresas, 2020\n",
            "- S. LIFSCHITZ, Desbravando BD nas Empresas, 2018\n"
          ]
        }
      ]
    },
    {
      "cell_type": "markdown",
      "source": [
        "###Prática 2)\n",
        "\n",
        "Altere seu programa da Prática 1 para permitir que cada artigo tenha mais de um autor"
      ],
      "metadata": {
        "id": "aB08RP0llqg4"
      }
    },
    {
      "cell_type": "code",
      "source": [],
      "metadata": {
        "id": "9kHYoMCOKFrW"
      },
      "execution_count": null,
      "outputs": []
    },
    {
      "cell_type": "code",
      "source": [],
      "metadata": {
        "id": "b2zHx8y6KGb8"
      },
      "execution_count": null,
      "outputs": []
    }
  ]
}