{
  "nbformat": 4,
  "nbformat_minor": 0,
  "metadata": {
    "colab": {
      "provenance": [],
      "authorship_tag": "ABX9TyM3yuf9DBW4WFSmqS9h62me",
      "include_colab_link": true
    },
    "kernelspec": {
      "name": "python3",
      "display_name": "Python 3"
    },
    "language_info": {
      "name": "python"
    }
  },
  "cells": [
    {
      "cell_type": "markdown",
      "metadata": {
        "id": "view-in-github",
        "colab_type": "text"
      },
      "source": [
        "<a href=\"https://colab.research.google.com/github/wjoliveira/desenvolimento_full_stack_puc_rio/blob/main/POO_AulaExerc%C3%ADcios.ipynb\" target=\"_parent\"><img src=\"https://colab.research.google.com/assets/colab-badge.svg\" alt=\"Open In Colab\"/></a>"
      ]
    },
    {
      "cell_type": "markdown",
      "source": [
        "## Programação Orientada a Objetos\n",
        "### Prof. Tatiana Escovedo\n",
        "### Prof. Assistente Antonio Pedro\n",
        "____________________________________________________________________\n",
        "\n",
        "####Aula Prática de Exercícios\n",
        "\n",
        "####Prática 1)\n",
        "\n",
        "Vamos criar uma biblioteca de artigos científicos que armazene as publicações de autores e imprima a lista de artigos cadastrados em formato de citação bibliográfica, sendo que:\n",
        "\n",
        "\n",
        "*   O **Autor** tem os atributos nome_completo, nome_citacao, afiliacao.\n",
        "*   O **Artigo** tem titulo, autor, ano_publicacao (nesta primeira versão do programa, assuma que cada artigo só pode ter um autor)\n",
        "\n",
        "\n"
      ],
      "metadata": {
        "id": "ej1mdtARjojl"
      }
    },
    {
      "cell_type": "code",
      "source": [],
      "metadata": {
        "id": "ByakA9pIlmch"
      },
      "execution_count": null,
      "outputs": []
    },
    {
      "cell_type": "markdown",
      "source": [
        "Prática 2"
      ],
      "metadata": {
        "id": "aB08RP0llqg4"
      }
    }
  ]
}